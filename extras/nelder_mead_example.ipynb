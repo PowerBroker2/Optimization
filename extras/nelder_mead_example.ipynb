{
 "cells": [
  {
   "cell_type": "code",
   "execution_count": 1,
   "metadata": {},
   "outputs": [],
   "source": [
    "import numpy as np\n",
    "import scipy.linalg as la\n",
    "from scipy import optimize\n",
    "\n",
    "\n",
    "np.set_printoptions(suppress=True)"
   ]
  },
  {
   "cell_type": "code",
   "execution_count": 2,
   "metadata": {},
   "outputs": [],
   "source": [
    "def func(x, *args, **kwargs):\n",
    "    distorted = args[0]\n",
    "    true      = args[1]\n",
    "    \n",
    "    A = x[:9].reshape((3, 3))\n",
    "    b = x[9:]\n",
    "    \n",
    "    guess    = la.inv(A) @ (distorted - b[:, np.newaxis])\n",
    "    vec_diff = la.norm((true - guess)**2, axis=1)\n",
    "    \n",
    "    return la.norm(vec_diff)"
   ]
  },
  {
   "cell_type": "code",
   "execution_count": 3,
   "metadata": {},
   "outputs": [
    {
     "name": "stdout",
     "output_type": "stream",
     "text": [
      "true_data\n",
      "[[1 0 0]\n",
      " [0 1 0]\n",
      " [0 0 1]]\n",
      "\n",
      "noise_data\n",
      "[[ 1.1  1.   5. ]\n",
      " [10.  12.  10.5]\n",
      " [ 2.  -1.5 -1. ]]\n"
     ]
    }
   ],
   "source": [
    "true_A = np.array([[0.1,   0,   4],\n",
    "                   [  0,   2, 0.5],\n",
    "                   [  4, 0.5,   1]])\n",
    "true_b = np.array([1, 10, -2])\n",
    "\n",
    "true_data = np.array([[1, 0, 0],\n",
    "                      [0, 1, 0],\n",
    "                      [0, 0, 1]])\n",
    "noise_data = (true_A @ true_data) + true_b[:, np.newaxis]\n",
    "\n",
    "print('true_data')\n",
    "print(true_data)\n",
    "print()\n",
    "print('noise_data')\n",
    "print(noise_data)"
   ]
  },
  {
   "cell_type": "code",
   "execution_count": 11,
   "metadata": {},
   "outputs": [
    {
     "name": "stdout",
     "output_type": "stream",
     "text": [
      "opt_A\n",
      "[[33.04439272  8.71569683 -2.42281547]\n",
      " [ 6.82277031  2.07299707 -8.42978   ]\n",
      " [-5.69830434  5.94687931 33.58603058]]\n",
      "\n",
      "opt_b\n",
      "[ -9.39067133  11.54684477 -12.8368747 ]\n"
     ]
    }
   ],
   "source": [
    "test_b = np.zeros(3)#noise_data.mean(axis=1)\n",
    "test_A = np.array([[1, 0, 0],\n",
    "                   [0, 1, 0],\n",
    "                   [0, 0, 1]])\n",
    "\n",
    "res = optimize.minimize(func,\n",
    "                        np.hstack([test_A.flatten(), test_b.flatten()]),\n",
    "                        (noise_data, true_data),\n",
    "                        method='Nelder-Mead').x\n",
    "\n",
    "opt_A = res[:9].reshape((3, 3))\n",
    "opt_b = res[9:]\n",
    "\n",
    "print('opt_A')\n",
    "print(opt_A)\n",
    "print()\n",
    "print('opt_b')\n",
    "print(opt_b)"
   ]
  },
  {
   "cell_type": "code",
   "execution_count": 12,
   "metadata": {},
   "outputs": [
    {
     "name": "stdout",
     "output_type": "stream",
     "text": [
      "cal_data\n",
      "[[-1.36626862 -1.53798865 -1.1358607 ]\n",
      " [ 5.01167003  5.58591747  4.59225828]\n",
      " [-1.05964327 -1.29466637 -1.03561168]]\n"
     ]
    }
   ],
   "source": [
    "cal_data = la.inv(opt_A) @ (noise_data - test_b[:, np.newaxis])\n",
    "print('cal_data')\n",
    "print(cal_data)"
   ]
  }
 ],
 "metadata": {
  "kernelspec": {
   "display_name": "base",
   "language": "python",
   "name": "python3"
  },
  "language_info": {
   "codemirror_mode": {
    "name": "ipython",
    "version": 3
   },
   "file_extension": ".py",
   "mimetype": "text/x-python",
   "name": "python",
   "nbconvert_exporter": "python",
   "pygments_lexer": "ipython3",
   "version": "3.10.9"
  }
 },
 "nbformat": 4,
 "nbformat_minor": 2
}
